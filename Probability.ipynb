{
 "cells": [
  {
   "cell_type": "markdown",
   "metadata": {},
   "source": [
    "## Probability of even and odd numbers"
   ]
  },
  {
   "cell_type": "code",
   "execution_count": 1,
   "metadata": {},
   "outputs": [],
   "source": [
    "import random"
   ]
  },
  {
   "cell_type": "code",
   "execution_count": 4,
   "metadata": {},
   "outputs": [
    {
     "name": "stdout",
     "output_type": "stream",
     "text": [
      "Probability of even numbers : 0.499\n",
      "Probability of odd numbers : 0.501\n",
      "Probability of even numbers : 0.507\n",
      "Probability of odd numbers : 0.493\n"
     ]
    }
   ],
   "source": [
    "def generate_list(start, end):\n",
    "    nums_lst = []\n",
    "    for i in range(1000):\n",
    "        nums_lst.append(random.randint(start, end))\n",
    "    \n",
    "    return nums_lst\n",
    "\n",
    "ch = 'Y'\n",
    "while(ch == 'Y'):\n",
    "    no_of_evens = 0\n",
    "    no_of_odds = 0\n",
    "    start = int(input(\"Enter start: \"))\n",
    "    end = int(input(\"Enter end: \"))\n",
    "\n",
    "    lst = generate_list(start, end)\n",
    "\n",
    "    for i in lst:\n",
    "        if i % 2 == 0:\n",
    "            no_of_evens += 1\n",
    "        else:\n",
    "            no_of_odds += 1\n",
    "\n",
    "    even_prob = no_of_evens/len(lst)\n",
    "    odd_prob = no_of_odds/len(lst)\n",
    "\n",
    "    print(f\"Probability of even numbers : {even_prob}\")\n",
    "    print(f\"Probability of odd numbers : {odd_prob}\")\n",
    "    ch = input(\"To have a go again ! (Y/N)\")"
   ]
  },
  {
   "cell_type": "code",
   "execution_count": null,
   "metadata": {},
   "outputs": [],
   "source": []
  }
 ],
 "metadata": {
  "kernelspec": {
   "display_name": "Python 3",
   "language": "python",
   "name": "python3"
  },
  "language_info": {
   "codemirror_mode": {
    "name": "ipython",
    "version": 3
   },
   "file_extension": ".py",
   "mimetype": "text/x-python",
   "name": "python",
   "nbconvert_exporter": "python",
   "pygments_lexer": "ipython3",
   "version": "3.11.8"
  }
 },
 "nbformat": 4,
 "nbformat_minor": 2
}
