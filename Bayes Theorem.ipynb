{
 "cells": [
  {
   "cell_type": "markdown",
   "metadata": {},
   "source": [
    "Parameters:\n",
    "\n",
    "prior_prob (float): the prior probability of the event  \n",
    "cond_prob (float): the conditional probability of the event given the evidence  \n",
    "evidence_prob (float): the probability of the evidence"
   ]
  },
  {
   "cell_type": "code",
   "execution_count": 1,
   "metadata": {},
   "outputs": [],
   "source": [
    "def bayes_theorem(prior_prob, cond_prob, evidence_prob):\n",
    "    poster_prob = prior_prob * cond_prob / evidence_prob\n",
    "    return poster_prob"
   ]
  },
  {
   "cell_type": "code",
   "execution_count": 2,
   "metadata": {},
   "outputs": [
    {
     "name": "stdout",
     "output_type": "stream",
     "text": [
      "0.4000000000000001\n"
     ]
    }
   ],
   "source": [
    "prior_prob = 0.1 # prior probability of having a disease\n",
    "cond_prob = 0.8 # conditional probability of having a symptom given the disease\n",
    "evidence_prob = 0.2 # probability of having the symptom\n",
    "\n",
    "posterior_prob = bayes_theorem(prior_prob, cond_prob, evidence_prob)\n",
    "print(posterior_prob)"
   ]
  },
  {
   "cell_type": "code",
   "execution_count": null,
   "metadata": {},
   "outputs": [],
   "source": []
  }
 ],
 "metadata": {
  "kernelspec": {
   "display_name": "Python 3",
   "language": "python",
   "name": "python3"
  },
  "language_info": {
   "codemirror_mode": {
    "name": "ipython",
    "version": 3
   },
   "file_extension": ".py",
   "mimetype": "text/x-python",
   "name": "python",
   "nbconvert_exporter": "python",
   "pygments_lexer": "ipython3",
   "version": "3.11.8"
  }
 },
 "nbformat": 4,
 "nbformat_minor": 2
}
