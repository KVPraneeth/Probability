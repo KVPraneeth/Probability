{
 "cells": [
  {
   "cell_type": "markdown",
   "metadata": {},
   "source": [
    "Say we have a quiz of 20 MCQ Q's, only one option is correct out of 4 Options.  \n",
    "P( Getting a Question Correct ) = 1/4 = 0.25."
   ]
  },
  {
   "cell_type": "code",
   "execution_count": 1,
   "metadata": {},
   "outputs": [],
   "source": [
    "import pandas as pd"
   ]
  },
  {
   "cell_type": "code",
   "execution_count": 2,
   "metadata": {},
   "outputs": [],
   "source": [
    "from scipy.stats import binom"
   ]
  },
  {
   "cell_type": "markdown",
   "metadata": {},
   "source": [
    "Now we take variables"
   ]
  },
  {
   "cell_type": "code",
   "execution_count": 7,
   "metadata": {},
   "outputs": [],
   "source": [
    "number_of_trials = int(input(\"Enter number of trials : \"))\n",
    "prob_of_success = 0.25"
   ]
  },
  {
   "cell_type": "markdown",
   "metadata": {},
   "source": [
    "Now we calculate the Binomial values\n",
    "\n",
    "binom.pmf(k, n, p)\n",
    "k --> Number of successes\n",
    "n --> Total number of trials\n",
    "p --> Prob opf success"
   ]
  },
  {
   "cell_type": "code",
   "execution_count": 8,
   "metadata": {},
   "outputs": [],
   "source": [
    "number_of_successes = int(input(\"Enter number of successes: \"))"
   ]
  },
  {
   "cell_type": "code",
   "execution_count": 9,
   "metadata": {},
   "outputs": [],
   "source": [
    "probability = binom.pmf(number_of_successes, number_of_trials, prob_of_success)"
   ]
  },
  {
   "cell_type": "code",
   "execution_count": 10,
   "metadata": {},
   "outputs": [
    {
     "name": "stdout",
     "output_type": "stream",
     "text": [
      "0.16860929321410364\n"
     ]
    }
   ],
   "source": [
    "print(probability)"
   ]
  },
  {
   "cell_type": "markdown",
   "metadata": {},
   "source": [
    "Now we calculate probability of successes for each occurence"
   ]
  },
  {
   "cell_type": "code",
   "execution_count": 11,
   "metadata": {},
   "outputs": [],
   "source": [
    "successes = list(range(0, number_of_trials - 1))\n",
    "df = pd.DataFrame(successes)\n",
    "df = df.rename(columns = {0: \"Number_of_successes\"})\n",
    "probability = lambda x : binom.pmf(x , number_of_trials, prob_of_success)\n",
    "\n",
    "df[\"Probability\"] = df[\"Number_of_successes\"].apply(probability)\n",
    "\n",
    "\n",
    "\n"
   ]
  },
  {
   "cell_type": "code",
   "execution_count": 12,
   "metadata": {},
   "outputs": [
    {
     "name": "stdout",
     "output_type": "stream",
     "text": [
      "    Number_of_successes   Probability\n",
      "0                     0  3.171212e-03\n",
      "1                     1  2.114141e-02\n",
      "2                     2  6.694781e-02\n",
      "3                     3  1.338956e-01\n",
      "4                     4  1.896855e-01\n",
      "5                     5  2.023312e-01\n",
      "6                     6  1.686093e-01\n",
      "7                     7  1.124062e-01\n",
      "8                     8  6.088669e-02\n",
      "9                     9  2.706075e-02\n",
      "10                   10  9.922275e-03\n",
      "11                   11  3.006750e-03\n",
      "12                   12  7.516875e-04\n",
      "13                   13  1.541923e-04\n",
      "14                   14  2.569872e-05\n",
      "15                   15  3.426496e-06\n",
      "16                   16  3.569266e-07\n",
      "17                   17  2.799425e-08\n",
      "18                   18  1.555236e-09\n"
     ]
    }
   ],
   "source": [
    "print(df)"
   ]
  },
  {
   "cell_type": "code",
   "execution_count": 15,
   "metadata": {},
   "outputs": [
    {
     "data": {
      "text/plain": [
       "<Axes: xlabel='Number_of_successes'>"
      ]
     },
     "execution_count": 15,
     "metadata": {},
     "output_type": "execute_result"
    },
    {
     "data": {
      "image/png": "[encoded data removed]",
      "text/plain": [
       "<Figure size 640x480 with 1 Axes>"
      ]
     },
     "metadata": {},
     "output_type": "display_data"
    }
   ],
   "source": [
    "df.plot(x=\"Number_of_successes\", y=\"Probability\", kind=\"bar\")"
   ]
  },
  {
   "cell_type": "code",
   "execution_count": null,
   "metadata": {},
   "outputs": [],
   "source": []
  }
 ],
 "metadata": {
  "kernelspec": {
   "display_name": "Python 3",
   "language": "python",
   "name": "python3"
  },
  "language_info": {
   "codemirror_mode": {
    "name": "ipython",
    "version": 3
   },
   "file_extension": ".py",
   "mimetype": "text/x-python",
   "name": "python",
   "nbconvert_exporter": "python",
   "pygments_lexer": "ipython3",
   "version": "3.11.8"
  }
 },
 "nbformat": 4,
 "nbformat_minor": 2
}
